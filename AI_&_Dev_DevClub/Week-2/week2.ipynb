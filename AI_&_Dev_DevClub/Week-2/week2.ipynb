{
 "cells": [
  {
   "cell_type": "markdown",
   "id": "9c43d26b",
   "metadata": {},
   "source": [
    "## Week2 Work\n",
    "### Importing necessary libraries"
   ]
  },
  {
   "cell_type": "code",
   "execution_count": 1,
   "id": "d71b65fd",
   "metadata": {},
   "outputs": [],
   "source": [
    "import pandas as pd\n",
    "import numpy as np\n",
    "import matplotlib.pyplot as plt\n",
    "import seaborn as sns\n",
    "from textblob import TextBlob\n",
    "from sklearn.preprocessing import LabelEncoder\n",
    "from sklearn.model_selection import train_test_split\n",
    "from sklearn.ensemble import RandomForestRegressor\n",
    "from sklearn.metrics import mean_squared_error, r2_score, mean_absolute_percentage_error\n",
    "from sklearn.model_selection import GridSearchCV, RandomizedSearchCV\n",
    "import joblib"
   ]
  },
  {
   "cell_type": "markdown",
   "id": "5179be67",
   "metadata": {},
   "source": [
    "## Revisiting the dataset"
   ]
  },
  {
   "cell_type": "code",
   "execution_count": 2,
   "id": "98f400e6",
   "metadata": {},
   "outputs": [
    {
     "data": {
      "text/html": [
       "<div>\n",
       "<style scoped>\n",
       "    .dataframe tbody tr th:only-of-type {\n",
       "        vertical-align: middle;\n",
       "    }\n",
       "\n",
       "    .dataframe tbody tr th {\n",
       "        vertical-align: top;\n",
       "    }\n",
       "\n",
       "    .dataframe thead th {\n",
       "        text-align: right;\n",
       "    }\n",
       "</style>\n",
       "<table border=\"1\" class=\"dataframe\">\n",
       "  <thead>\n",
       "    <tr style=\"text-align: right;\">\n",
       "      <th></th>\n",
       "      <th>Unnamed: 0</th>\n",
       "      <th>id</th>\n",
       "      <th>date</th>\n",
       "      <th>likes</th>\n",
       "      <th>content</th>\n",
       "      <th>username</th>\n",
       "      <th>media</th>\n",
       "      <th>inferred company</th>\n",
       "      <th>has_media</th>\n",
       "      <th>hour</th>\n",
       "      <th>day</th>\n",
       "      <th>word_count</th>\n",
       "      <th>char_count</th>\n",
       "    </tr>\n",
       "  </thead>\n",
       "  <tbody>\n",
       "    <tr>\n",
       "      <th>0</th>\n",
       "      <td>0</td>\n",
       "      <td>1</td>\n",
       "      <td>2020-12-12 00:47:00</td>\n",
       "      <td>1</td>\n",
       "      <td>spend your weekend morning with a ham, egg, an...</td>\n",
       "      <td>TimHortonsPH</td>\n",
       "      <td>[Photo(previewUrl='https://pbs.twimg.com/media...</td>\n",
       "      <td>tim hortons</td>\n",
       "      <td>1</td>\n",
       "      <td>0</td>\n",
       "      <td>Saturday</td>\n",
       "      <td>29</td>\n",
       "      <td>181</td>\n",
       "    </tr>\n",
       "    <tr>\n",
       "      <th>1</th>\n",
       "      <td>1</td>\n",
       "      <td>2</td>\n",
       "      <td>2018-06-30 10:04:20</td>\n",
       "      <td>2750</td>\n",
       "      <td>watch rapper &lt;mention&gt; freestyle for over an h...</td>\n",
       "      <td>IndyMusic</td>\n",
       "      <td>[Photo(previewUrl='https://pbs.twimg.com/media...</td>\n",
       "      <td>independent</td>\n",
       "      <td>1</td>\n",
       "      <td>10</td>\n",
       "      <td>Saturday</td>\n",
       "      <td>10</td>\n",
       "      <td>73</td>\n",
       "    </tr>\n",
       "    <tr>\n",
       "      <th>2</th>\n",
       "      <td>2</td>\n",
       "      <td>3</td>\n",
       "      <td>2020-09-29 19:47:28</td>\n",
       "      <td>57</td>\n",
       "      <td>canadian armenian community demands ban on mil...</td>\n",
       "      <td>CBCCanada</td>\n",
       "      <td>[Photo(previewUrl='https://pbs.twimg.com/media...</td>\n",
       "      <td>cbc</td>\n",
       "      <td>1</td>\n",
       "      <td>19</td>\n",
       "      <td>Tuesday</td>\n",
       "      <td>14</td>\n",
       "      <td>104</td>\n",
       "    </tr>\n",
       "    <tr>\n",
       "      <th>3</th>\n",
       "      <td>3</td>\n",
       "      <td>4</td>\n",
       "      <td>2020-10-01 11:40:09</td>\n",
       "      <td>152</td>\n",
       "      <td>1st in europe to be devastated by covid-19, it...</td>\n",
       "      <td>MKWilliamsRome</td>\n",
       "      <td>[Photo(previewUrl='https://pbs.twimg.com/media...</td>\n",
       "      <td>williams</td>\n",
       "      <td>1</td>\n",
       "      <td>11</td>\n",
       "      <td>Thursday</td>\n",
       "      <td>22</td>\n",
       "      <td>140</td>\n",
       "    </tr>\n",
       "    <tr>\n",
       "      <th>4</th>\n",
       "      <td>4</td>\n",
       "      <td>5</td>\n",
       "      <td>2018-10-19 14:30:46</td>\n",
       "      <td>41</td>\n",
       "      <td>congratulations to pauletha butts of &lt;mention&gt;...</td>\n",
       "      <td>BGISD</td>\n",
       "      <td>[Photo(previewUrl='https://pbs.twimg.com/media...</td>\n",
       "      <td>independent</td>\n",
       "      <td>1</td>\n",
       "      <td>14</td>\n",
       "      <td>Friday</td>\n",
       "      <td>26</td>\n",
       "      <td>199</td>\n",
       "    </tr>\n",
       "  </tbody>\n",
       "</table>\n",
       "</div>"
      ],
      "text/plain": [
       "   Unnamed: 0  id                 date  likes  \\\n",
       "0           0   1  2020-12-12 00:47:00      1   \n",
       "1           1   2  2018-06-30 10:04:20   2750   \n",
       "2           2   3  2020-09-29 19:47:28     57   \n",
       "3           3   4  2020-10-01 11:40:09    152   \n",
       "4           4   5  2018-10-19 14:30:46     41   \n",
       "\n",
       "                                             content        username  \\\n",
       "0  spend your weekend morning with a ham, egg, an...    TimHortonsPH   \n",
       "1  watch rapper <mention> freestyle for over an h...       IndyMusic   \n",
       "2  canadian armenian community demands ban on mil...       CBCCanada   \n",
       "3  1st in europe to be devastated by covid-19, it...  MKWilliamsRome   \n",
       "4  congratulations to pauletha butts of <mention>...           BGISD   \n",
       "\n",
       "                                               media inferred company  \\\n",
       "0  [Photo(previewUrl='https://pbs.twimg.com/media...      tim hortons   \n",
       "1  [Photo(previewUrl='https://pbs.twimg.com/media...      independent   \n",
       "2  [Photo(previewUrl='https://pbs.twimg.com/media...              cbc   \n",
       "3  [Photo(previewUrl='https://pbs.twimg.com/media...         williams   \n",
       "4  [Photo(previewUrl='https://pbs.twimg.com/media...      independent   \n",
       "\n",
       "   has_media  hour       day  word_count  char_count  \n",
       "0          1     0  Saturday          29         181  \n",
       "1          1    10  Saturday          10          73  \n",
       "2          1    19   Tuesday          14         104  \n",
       "3          1    11  Thursday          22         140  \n",
       "4          1    14    Friday          26         199  "
      ]
     },
     "execution_count": 2,
     "metadata": {},
     "output_type": "execute_result"
    }
   ],
   "source": [
    "df = pd.read_csv('../week1.csv')\n",
    "df.head()"
   ]
  },
  {
   "cell_type": "markdown",
   "id": "13e13a15",
   "metadata": {},
   "source": [
    "## Introducing polarity of the content"
   ]
  },
  {
   "cell_type": "code",
   "execution_count": 3,
   "id": "6b2701b4",
   "metadata": {},
   "outputs": [
    {
     "data": {
      "text/html": [
       "<div>\n",
       "<style scoped>\n",
       "    .dataframe tbody tr th:only-of-type {\n",
       "        vertical-align: middle;\n",
       "    }\n",
       "\n",
       "    .dataframe tbody tr th {\n",
       "        vertical-align: top;\n",
       "    }\n",
       "\n",
       "    .dataframe thead th {\n",
       "        text-align: right;\n",
       "    }\n",
       "</style>\n",
       "<table border=\"1\" class=\"dataframe\">\n",
       "  <thead>\n",
       "    <tr style=\"text-align: right;\">\n",
       "      <th></th>\n",
       "      <th>Unnamed: 0</th>\n",
       "      <th>id</th>\n",
       "      <th>date</th>\n",
       "      <th>likes</th>\n",
       "      <th>content</th>\n",
       "      <th>username</th>\n",
       "      <th>media</th>\n",
       "      <th>inferred company</th>\n",
       "      <th>has_media</th>\n",
       "      <th>hour</th>\n",
       "      <th>day</th>\n",
       "      <th>word_count</th>\n",
       "      <th>char_count</th>\n",
       "      <th>sentiment</th>\n",
       "    </tr>\n",
       "  </thead>\n",
       "  <tbody>\n",
       "    <tr>\n",
       "      <th>0</th>\n",
       "      <td>0</td>\n",
       "      <td>1</td>\n",
       "      <td>2020-12-12 00:47:00</td>\n",
       "      <td>1</td>\n",
       "      <td>spend your weekend morning with a ham, egg, an...</td>\n",
       "      <td>TimHortonsPH</td>\n",
       "      <td>[Photo(previewUrl='https://pbs.twimg.com/media...</td>\n",
       "      <td>tim hortons</td>\n",
       "      <td>1</td>\n",
       "      <td>0</td>\n",
       "      <td>Saturday</td>\n",
       "      <td>29</td>\n",
       "      <td>181</td>\n",
       "      <td>0.1750</td>\n",
       "    </tr>\n",
       "    <tr>\n",
       "      <th>1</th>\n",
       "      <td>1</td>\n",
       "      <td>2</td>\n",
       "      <td>2018-06-30 10:04:20</td>\n",
       "      <td>2750</td>\n",
       "      <td>watch rapper &lt;mention&gt; freestyle for over an h...</td>\n",
       "      <td>IndyMusic</td>\n",
       "      <td>[Photo(previewUrl='https://pbs.twimg.com/media...</td>\n",
       "      <td>independent</td>\n",
       "      <td>1</td>\n",
       "      <td>10</td>\n",
       "      <td>Saturday</td>\n",
       "      <td>10</td>\n",
       "      <td>73</td>\n",
       "      <td>0.0000</td>\n",
       "    </tr>\n",
       "    <tr>\n",
       "      <th>2</th>\n",
       "      <td>2</td>\n",
       "      <td>3</td>\n",
       "      <td>2020-09-29 19:47:28</td>\n",
       "      <td>57</td>\n",
       "      <td>canadian armenian community demands ban on mil...</td>\n",
       "      <td>CBCCanada</td>\n",
       "      <td>[Photo(previewUrl='https://pbs.twimg.com/media...</td>\n",
       "      <td>cbc</td>\n",
       "      <td>1</td>\n",
       "      <td>19</td>\n",
       "      <td>Tuesday</td>\n",
       "      <td>14</td>\n",
       "      <td>104</td>\n",
       "      <td>-0.1000</td>\n",
       "    </tr>\n",
       "    <tr>\n",
       "      <th>3</th>\n",
       "      <td>3</td>\n",
       "      <td>4</td>\n",
       "      <td>2020-10-01 11:40:09</td>\n",
       "      <td>152</td>\n",
       "      <td>1st in europe to be devastated by covid-19, it...</td>\n",
       "      <td>MKWilliamsRome</td>\n",
       "      <td>[Photo(previewUrl='https://pbs.twimg.com/media...</td>\n",
       "      <td>williams</td>\n",
       "      <td>1</td>\n",
       "      <td>11</td>\n",
       "      <td>Thursday</td>\n",
       "      <td>22</td>\n",
       "      <td>140</td>\n",
       "      <td>0.5000</td>\n",
       "    </tr>\n",
       "    <tr>\n",
       "      <th>4</th>\n",
       "      <td>4</td>\n",
       "      <td>5</td>\n",
       "      <td>2018-10-19 14:30:46</td>\n",
       "      <td>41</td>\n",
       "      <td>congratulations to pauletha butts of &lt;mention&gt;...</td>\n",
       "      <td>BGISD</td>\n",
       "      <td>[Photo(previewUrl='https://pbs.twimg.com/media...</td>\n",
       "      <td>independent</td>\n",
       "      <td>1</td>\n",
       "      <td>14</td>\n",
       "      <td>Friday</td>\n",
       "      <td>26</td>\n",
       "      <td>199</td>\n",
       "      <td>0.0625</td>\n",
       "    </tr>\n",
       "  </tbody>\n",
       "</table>\n",
       "</div>"
      ],
      "text/plain": [
       "   Unnamed: 0  id                 date  likes  \\\n",
       "0           0   1  2020-12-12 00:47:00      1   \n",
       "1           1   2  2018-06-30 10:04:20   2750   \n",
       "2           2   3  2020-09-29 19:47:28     57   \n",
       "3           3   4  2020-10-01 11:40:09    152   \n",
       "4           4   5  2018-10-19 14:30:46     41   \n",
       "\n",
       "                                             content        username  \\\n",
       "0  spend your weekend morning with a ham, egg, an...    TimHortonsPH   \n",
       "1  watch rapper <mention> freestyle for over an h...       IndyMusic   \n",
       "2  canadian armenian community demands ban on mil...       CBCCanada   \n",
       "3  1st in europe to be devastated by covid-19, it...  MKWilliamsRome   \n",
       "4  congratulations to pauletha butts of <mention>...           BGISD   \n",
       "\n",
       "                                               media inferred company  \\\n",
       "0  [Photo(previewUrl='https://pbs.twimg.com/media...      tim hortons   \n",
       "1  [Photo(previewUrl='https://pbs.twimg.com/media...      independent   \n",
       "2  [Photo(previewUrl='https://pbs.twimg.com/media...              cbc   \n",
       "3  [Photo(previewUrl='https://pbs.twimg.com/media...         williams   \n",
       "4  [Photo(previewUrl='https://pbs.twimg.com/media...      independent   \n",
       "\n",
       "   has_media  hour       day  word_count  char_count  sentiment  \n",
       "0          1     0  Saturday          29         181     0.1750  \n",
       "1          1    10  Saturday          10          73     0.0000  \n",
       "2          1    19   Tuesday          14         104    -0.1000  \n",
       "3          1    11  Thursday          22         140     0.5000  \n",
       "4          1    14    Friday          26         199     0.0625  "
      ]
     },
     "execution_count": 3,
     "metadata": {},
     "output_type": "execute_result"
    }
   ],
   "source": [
    "df['sentiment'] = df['content'].apply(lambda x: TextBlob(x).sentiment.polarity)\n",
    "df.head()"
   ]
  },
  {
   "cell_type": "code",
   "execution_count": 4,
   "id": "be1d7af9",
   "metadata": {},
   "outputs": [],
   "source": [
    "df.drop(columns=['content', 'id', 'date', 'media', 'Unnamed: 0'], axis=1, inplace=True)"
   ]
  },
  {
   "cell_type": "code",
   "execution_count": 5,
   "id": "ef66456e",
   "metadata": {},
   "outputs": [
    {
     "data": {
      "text/plain": [
       "Index(['likes', 'username', 'inferred company', 'has_media', 'hour', 'day',\n",
       "       'word_count', 'char_count', 'sentiment'],\n",
       "      dtype='object')"
      ]
     },
     "execution_count": 5,
     "metadata": {},
     "output_type": "execute_result"
    }
   ],
   "source": [
    "df.columns"
   ]
  },
  {
   "cell_type": "markdown",
   "id": "d0006e5d",
   "metadata": {},
   "source": [
    "## Encoding categorical variables"
   ]
  },
  {
   "cell_type": "code",
   "execution_count": 6,
   "id": "ddac1b3a",
   "metadata": {},
   "outputs": [
    {
     "data": {
      "text/html": [
       "<div>\n",
       "<style scoped>\n",
       "    .dataframe tbody tr th:only-of-type {\n",
       "        vertical-align: middle;\n",
       "    }\n",
       "\n",
       "    .dataframe tbody tr th {\n",
       "        vertical-align: top;\n",
       "    }\n",
       "\n",
       "    .dataframe thead th {\n",
       "        text-align: right;\n",
       "    }\n",
       "</style>\n",
       "<table border=\"1\" class=\"dataframe\">\n",
       "  <thead>\n",
       "    <tr style=\"text-align: right;\">\n",
       "      <th></th>\n",
       "      <th>has_media</th>\n",
       "      <th>hour</th>\n",
       "      <th>word_count</th>\n",
       "      <th>char_count</th>\n",
       "      <th>sentiment</th>\n",
       "      <th>company_encoded</th>\n",
       "      <th>username_encoded</th>\n",
       "      <th>day_encoded</th>\n",
       "      <th>log_likes</th>\n",
       "    </tr>\n",
       "  </thead>\n",
       "  <tbody>\n",
       "    <tr>\n",
       "      <th>0</th>\n",
       "      <td>1</td>\n",
       "      <td>0</td>\n",
       "      <td>29</td>\n",
       "      <td>181</td>\n",
       "      <td>0.1750</td>\n",
       "      <td>166</td>\n",
       "      <td>860</td>\n",
       "      <td>2</td>\n",
       "      <td>0.693147</td>\n",
       "    </tr>\n",
       "    <tr>\n",
       "      <th>1</th>\n",
       "      <td>1</td>\n",
       "      <td>10</td>\n",
       "      <td>10</td>\n",
       "      <td>73</td>\n",
       "      <td>0.0000</td>\n",
       "      <td>87</td>\n",
       "      <td>441</td>\n",
       "      <td>2</td>\n",
       "      <td>7.919720</td>\n",
       "    </tr>\n",
       "    <tr>\n",
       "      <th>2</th>\n",
       "      <td>1</td>\n",
       "      <td>19</td>\n",
       "      <td>14</td>\n",
       "      <td>104</td>\n",
       "      <td>-0.1000</td>\n",
       "      <td>35</td>\n",
       "      <td>155</td>\n",
       "      <td>5</td>\n",
       "      <td>4.060443</td>\n",
       "    </tr>\n",
       "    <tr>\n",
       "      <th>3</th>\n",
       "      <td>1</td>\n",
       "      <td>11</td>\n",
       "      <td>22</td>\n",
       "      <td>140</td>\n",
       "      <td>0.5000</td>\n",
       "      <td>189</td>\n",
       "      <td>508</td>\n",
       "      <td>4</td>\n",
       "      <td>5.030438</td>\n",
       "    </tr>\n",
       "    <tr>\n",
       "      <th>4</th>\n",
       "      <td>1</td>\n",
       "      <td>14</td>\n",
       "      <td>26</td>\n",
       "      <td>199</td>\n",
       "      <td>0.0625</td>\n",
       "      <td>87</td>\n",
       "      <td>112</td>\n",
       "      <td>0</td>\n",
       "      <td>3.737670</td>\n",
       "    </tr>\n",
       "  </tbody>\n",
       "</table>\n",
       "</div>"
      ],
      "text/plain": [
       "   has_media  hour  word_count  char_count  sentiment  company_encoded  \\\n",
       "0          1     0          29         181     0.1750              166   \n",
       "1          1    10          10          73     0.0000               87   \n",
       "2          1    19          14         104    -0.1000               35   \n",
       "3          1    11          22         140     0.5000              189   \n",
       "4          1    14          26         199     0.0625               87   \n",
       "\n",
       "   username_encoded  day_encoded  log_likes  \n",
       "0               860            2   0.693147  \n",
       "1               441            2   7.919720  \n",
       "2               155            5   4.060443  \n",
       "3               508            4   5.030438  \n",
       "4               112            0   3.737670  "
      ]
     },
     "execution_count": 6,
     "metadata": {},
     "output_type": "execute_result"
    }
   ],
   "source": [
    "le = LabelEncoder()\n",
    "le_company = LabelEncoder()\n",
    "df['company_encoded'] = le_company.fit_transform(df['inferred company'])\n",
    "\n",
    "le_username = LabelEncoder()\n",
    "df['username_encoded'] = le_username.fit_transform(df['username'])\n",
    "\n",
    "le_day = LabelEncoder()\n",
    "df['day_encoded'] = le_day.fit_transform(df['day'])\n",
    "\n",
    "df['log_likes'] = np.log1p(df['likes'])\n",
    "df.drop(columns=['inferred company', 'username', 'day', 'likes'], axis=1, inplace=True)\n",
    "df.head()"
   ]
  },
  {
   "cell_type": "markdown",
   "id": "f56189d5",
   "metadata": {},
   "source": [
    "## Test-Train splitting and model training"
   ]
  },
  {
   "cell_type": "code",
   "execution_count": 7,
   "id": "35d7181e",
   "metadata": {},
   "outputs": [],
   "source": [
    "X = df[['word_count', 'char_count', 'has_media', 'hour', 'sentiment', 'company_encoded', 'username_encoded', 'day_encoded']]\n",
    "y = df['log_likes']\n",
    "\n",
    "X_train, X_test, y_train, y_test = train_test_split(X, y, test_size=0.2, random_state=42)"
   ]
  },
  {
   "cell_type": "code",
   "execution_count": 8,
   "id": "40005ed2",
   "metadata": {},
   "outputs": [
    {
     "name": "stdout",
     "output_type": "stream",
     "text": [
      "RMSE: 0.9797156344256986\n",
      "R2: 0.8631401139458883\n"
     ]
    }
   ],
   "source": [
    "model = RandomForestRegressor()\n",
    "model.fit(X_train, y_train)\n",
    "y_pred = model.predict(X_test)\n",
    "\n",
    "print(\"RMSE:\", np.sqrt(mean_squared_error(y_test, y_pred)))\n",
    "print(\"R2:\", r2_score(y_test, y_pred))"
   ]
  },
  {
   "cell_type": "markdown",
   "id": "22b6fd13",
   "metadata": {},
   "source": [
    "## Running RandomsearchCV and gridsearchCV"
   ]
  },
  {
   "cell_type": "code",
   "execution_count": 9,
   "id": "f94c5cd5",
   "metadata": {},
   "outputs": [],
   "source": [
    "# param_grid = {\n",
    "#     'n_estimators': [150, 200, 250],\n",
    "#     'max_depth': [10, 12, 14],\n",
    "#     'min_samples_split': [8, 10, 12],\n",
    "#     'min_samples_leaf': [4, 5, 6],\n",
    "# }\n",
    "\n",
    "# grid_search = GridSearchCV(model, param_grid=param_grid, cv=5)\n",
    "# grid_search.fit(X_train, y_train)\n",
    "\n",
    "# print(\"Best Parameters:\", grid_search.best_params_)\n",
    "# print(\"Best Estimator:\", grid_search.best_estimator_)\n",
    "\n",
    "# gives the following as best params\n",
    "# RandomForestRegressor(max_depth=14, min_samples_leaf=4, min_samples_split=8, n_estimators=200)"
   ]
  },
  {
   "cell_type": "markdown",
   "id": "19516ca3",
   "metadata": {},
   "source": [
    "## Running the final model with best parameters"
   ]
  },
  {
   "cell_type": "code",
   "execution_count": 10,
   "id": "977e37d9",
   "metadata": {},
   "outputs": [
    {
     "name": "stdout",
     "output_type": "stream",
     "text": [
      "Train RMSE: 0.8163011591719247\n",
      "Test RMSE: 0.9995137076166326\n",
      "Test R2: 0.8575529020416323\n",
      "Train R2: 0.9019555182481809\n"
     ]
    }
   ],
   "source": [
    "model = RandomForestRegressor(max_depth=14, min_samples_leaf=4, min_samples_split=8, n_estimators=200)\n",
    "model.fit(X_train, y_train)\n",
    "y_pred = model.predict(X_test)\n",
    "y_pred_train = model.predict(X_train)\n",
    "\n",
    "print(\"Train RMSE:\", np.sqrt(mean_squared_error(y_train, y_pred_train)))\n",
    "print(\"Test RMSE:\", np.sqrt(mean_squared_error(y_test, y_pred)))\n",
    "print(\"Test R2:\", r2_score(y_test, y_pred))\n",
    "print(\"Train R2:\", r2_score(y_train, y_pred_train))"
   ]
  },
  {
   "cell_type": "markdown",
   "id": "df056aea",
   "metadata": {},
   "source": [
    "## Checking feature importances"
   ]
  },
  {
   "cell_type": "code",
   "execution_count": 11,
   "id": "8d17f2f0",
   "metadata": {},
   "outputs": [
    {
     "name": "stdout",
     "output_type": "stream",
     "text": [
      "            Feature  Importance\n",
      "6  username_encoded    0.513756\n",
      "5   company_encoded    0.426252\n",
      "1              hour    0.023020\n",
      "3        char_count    0.011815\n",
      "4         sentiment    0.009684\n",
      "0         has_media    0.009397\n",
      "7       day_encoded    0.006076\n",
      "2        word_count    0.000000\n"
     ]
    },
    {
     "data": {
      "image/png": "[encoded data removed]",
      "text/plain": [
       "<Figure size 800x500 with 1 Axes>"
      ]
     },
     "metadata": {},
     "output_type": "display_data"
    }
   ],
   "source": [
    "importances = model.feature_importances_\n",
    "feature_names = ['has_media', 'hour', 'word_count', 'char_count','sentiment', 'company_encoded', 'username_encoded','day_encoded']\n",
    "\n",
    "importance_df = pd.DataFrame({'Feature': feature_names,'Importance': importances}).sort_values(by='Importance', ascending=False)\n",
    "\n",
    "print(importance_df)\n",
    "plt.figure(figsize=(8, 5))\n",
    "plt.barh(importance_df['Feature'], importance_df['Importance'], color='skyblue')\n",
    "plt.xlabel('Feature Importance')\n",
    "plt.title('Random Forest Feature Importances')\n",
    "plt.gca().invert_yaxis()  # Highest importance on top\n",
    "plt.tight_layout()\n",
    "plt.show()"
   ]
  },
  {
   "cell_type": "markdown",
   "id": "930434fb",
   "metadata": {},
   "source": [
    "## Saving the model"
   ]
  },
  {
   "cell_type": "code",
   "execution_count": 13,
   "id": "c9904caf",
   "metadata": {},
   "outputs": [
    {
     "data": {
      "text/plain": [
       "['le_day.pkl']"
      ]
     },
     "execution_count": 13,
     "metadata": {},
     "output_type": "execute_result"
    }
   ],
   "source": [
    "import joblib\n",
    "joblib.dump(model, 'like_predictor.pkl')\n",
    "joblib.dump(le_company, 'le_company.pkl')\n",
    "joblib.dump(le_username, 'le_username.pkl')\n",
    "joblib.dump(le_day, 'le_day.pkl')"
   ]
  },
  {
   "cell_type": "markdown",
   "id": "8f52e445",
   "metadata": {},
   "source": [
    "## API\n",
    "Example of how to run the API:\n",
    "\n",
    "```zsh\n",
    "$ curl -X POST http://127.0.0.1:5000/predict -H \"Content-Type: application/json\" -d '{\n",
    "        \"has_media\": 1,\n",
    "        \"hour\": 14,\n",
    "        \"word_count\": 25,\n",
    "        \"char_count\": 150,\n",
    "        \"sentiment\": 0.2,\n",
    "        \"company\": \"independent\",\n",
    "        \"username\":  \"MKWilliamsRome\",\n",
    "        \"day\": \"Monday\"\n",
    "      }'\n",
    "{\n",
    "  \"predicted_likes\": 283\n",
    "}\n",
    "```"
   ]
  },
  {
   "cell_type": "markdown",
   "id": "eec3e9d3",
   "metadata": {},
   "source": [
    "\n",
    "## Improvements\n",
    "The API should ideally only take the username, company, presence of media and content and all feature manipulation should be conducted at the backend by the API itself. \n",
    "As for the model improvement part, feature enhancement should be a must. Content is a very useful feature and only creating sentiment and word, char counts as features out of that seems like a waste. Moreover more features should also be tried to obtained out of company and username if possible as well. Using something else like target-encoding would also have been worth a try. Using XGBoost or Neural Networks would also have been much better and resulted in a much more accurate and generalized model."
   ]
  }
 ],
 "metadata": {
  "kernelspec": {
   "display_name": "Python 3",
   "language": "python",
   "name": "python3"
  },
  "language_info": {
   "codemirror_mode": {
    "name": "ipython",
    "version": 3
   },
   "file_extension": ".py",
   "mimetype": "text/x-python",
   "name": "python",
   "nbconvert_exporter": "python",
   "pygments_lexer": "ipython3",
   "version": "3.13.1"
  }
 },
 "nbformat": 4,
 "nbformat_minor": 5
}
