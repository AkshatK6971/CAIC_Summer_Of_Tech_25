{
 "cells": [
  {
   "cell_type": "markdown",
   "id": "a58c1cad",
   "metadata": {},
   "source": [
    "## Week1 Work\n",
    "### Importing necessary libraries"
   ]
  },
  {
   "cell_type": "code",
   "execution_count": 1,
   "id": "2c08e3ab",
   "metadata": {},
   "outputs": [],
   "source": [
    "import numpy as np\n",
    "import pandas as pd\n",
    "import matplotlib.pyplot as plt\n",
    "import seaborn as sns"
   ]
  },
  {
   "cell_type": "markdown",
   "id": "183e419b",
   "metadata": {},
   "source": [
    "### Reading dataset and basic data analysis"
   ]
  },
  {
   "cell_type": "code",
   "execution_count": 2,
   "id": "47bd8c0b",
   "metadata": {},
   "outputs": [
    {
     "data": {
      "text/html": [
       "<div>\n",
       "<style scoped>\n",
       "    .dataframe tbody tr th:only-of-type {\n",
       "        vertical-align: middle;\n",
       "    }\n",
       "\n",
       "    .dataframe tbody tr th {\n",
       "        vertical-align: top;\n",
       "    }\n",
       "\n",
       "    .dataframe thead th {\n",
       "        text-align: right;\n",
       "    }\n",
       "</style>\n",
       "<table border=\"1\" class=\"dataframe\">\n",
       "  <thead>\n",
       "    <tr style=\"text-align: right;\">\n",
       "      <th></th>\n",
       "      <th>id</th>\n",
       "      <th>date</th>\n",
       "      <th>likes</th>\n",
       "      <th>content</th>\n",
       "      <th>username</th>\n",
       "      <th>media</th>\n",
       "      <th>inferred company</th>\n",
       "    </tr>\n",
       "  </thead>\n",
       "  <tbody>\n",
       "    <tr>\n",
       "      <th>0</th>\n",
       "      <td>1</td>\n",
       "      <td>2020-12-12 00:47:00</td>\n",
       "      <td>1</td>\n",
       "      <td>Spend your weekend morning with a Ham, Egg, an...</td>\n",
       "      <td>TimHortonsPH</td>\n",
       "      <td>[Photo(previewUrl='https://pbs.twimg.com/media...</td>\n",
       "      <td>tim hortons</td>\n",
       "    </tr>\n",
       "    <tr>\n",
       "      <th>1</th>\n",
       "      <td>2</td>\n",
       "      <td>2018-06-30 10:04:20</td>\n",
       "      <td>2750</td>\n",
       "      <td>Watch rapper &lt;mention&gt; freestyle for over an H...</td>\n",
       "      <td>IndyMusic</td>\n",
       "      <td>[Photo(previewUrl='https://pbs.twimg.com/media...</td>\n",
       "      <td>independent</td>\n",
       "    </tr>\n",
       "    <tr>\n",
       "      <th>2</th>\n",
       "      <td>3</td>\n",
       "      <td>2020-09-29 19:47:28</td>\n",
       "      <td>57</td>\n",
       "      <td>Canadian Armenian community demands ban on mil...</td>\n",
       "      <td>CBCCanada</td>\n",
       "      <td>[Photo(previewUrl='https://pbs.twimg.com/media...</td>\n",
       "      <td>cbc</td>\n",
       "    </tr>\n",
       "    <tr>\n",
       "      <th>3</th>\n",
       "      <td>4</td>\n",
       "      <td>2020-10-01 11:40:09</td>\n",
       "      <td>152</td>\n",
       "      <td>1st in Europe to be devastated by COVID-19, It...</td>\n",
       "      <td>MKWilliamsRome</td>\n",
       "      <td>[Photo(previewUrl='https://pbs.twimg.com/media...</td>\n",
       "      <td>williams</td>\n",
       "    </tr>\n",
       "    <tr>\n",
       "      <th>4</th>\n",
       "      <td>5</td>\n",
       "      <td>2018-10-19 14:30:46</td>\n",
       "      <td>41</td>\n",
       "      <td>Congratulations to Pauletha Butts of &lt;mention&gt;...</td>\n",
       "      <td>BGISD</td>\n",
       "      <td>[Photo(previewUrl='https://pbs.twimg.com/media...</td>\n",
       "      <td>independent</td>\n",
       "    </tr>\n",
       "  </tbody>\n",
       "</table>\n",
       "</div>"
      ],
      "text/plain": [
       "   id                 date  likes  \\\n",
       "0   1  2020-12-12 00:47:00      1   \n",
       "1   2  2018-06-30 10:04:20   2750   \n",
       "2   3  2020-09-29 19:47:28     57   \n",
       "3   4  2020-10-01 11:40:09    152   \n",
       "4   5  2018-10-19 14:30:46     41   \n",
       "\n",
       "                                             content        username  \\\n",
       "0  Spend your weekend morning with a Ham, Egg, an...    TimHortonsPH   \n",
       "1  Watch rapper <mention> freestyle for over an H...       IndyMusic   \n",
       "2  Canadian Armenian community demands ban on mil...       CBCCanada   \n",
       "3  1st in Europe to be devastated by COVID-19, It...  MKWilliamsRome   \n",
       "4  Congratulations to Pauletha Butts of <mention>...           BGISD   \n",
       "\n",
       "                                               media inferred company  \n",
       "0  [Photo(previewUrl='https://pbs.twimg.com/media...      tim hortons  \n",
       "1  [Photo(previewUrl='https://pbs.twimg.com/media...      independent  \n",
       "2  [Photo(previewUrl='https://pbs.twimg.com/media...              cbc  \n",
       "3  [Photo(previewUrl='https://pbs.twimg.com/media...         williams  \n",
       "4  [Photo(previewUrl='https://pbs.twimg.com/media...      independent  "
      ]
     },
     "execution_count": 2,
     "metadata": {},
     "output_type": "execute_result"
    }
   ],
   "source": [
    "df = pd.read_csv('../behaviour_simulation_train.xlsx - Sheet1.csv')\n",
    "df.head()"
   ]
  },
  {
   "cell_type": "code",
   "execution_count": 3,
   "id": "97ee7b15",
   "metadata": {},
   "outputs": [
    {
     "data": {
      "text/plain": [
       "(17331, 7)"
      ]
     },
     "execution_count": 3,
     "metadata": {},
     "output_type": "execute_result"
    }
   ],
   "source": [
    "df.shape"
   ]
  },
  {
   "cell_type": "code",
   "execution_count": 4,
   "id": "f4b66a74",
   "metadata": {},
   "outputs": [
    {
     "name": "stdout",
     "output_type": "stream",
     "text": [
      "<class 'pandas.core.frame.DataFrame'>\n",
      "RangeIndex: 17331 entries, 0 to 17330\n",
      "Data columns (total 7 columns):\n",
      " #   Column            Non-Null Count  Dtype \n",
      "---  ------            --------------  ----- \n",
      " 0   id                17331 non-null  int64 \n",
      " 1   date              17331 non-null  object\n",
      " 2   likes             17331 non-null  int64 \n",
      " 3   content           17331 non-null  object\n",
      " 4   username          17331 non-null  object\n",
      " 5   media             17331 non-null  object\n",
      " 6   inferred company  17331 non-null  object\n",
      "dtypes: int64(2), object(5)\n",
      "memory usage: 947.9+ KB\n"
     ]
    }
   ],
   "source": [
    "df.info()"
   ]
  },
  {
   "cell_type": "markdown",
   "id": "18638237",
   "metadata": {},
   "source": [
    "### Checking null values in the dataset"
   ]
  },
  {
   "cell_type": "code",
   "execution_count": 5,
   "id": "7d9df859",
   "metadata": {},
   "outputs": [
    {
     "data": {
      "text/plain": [
       "id                  0\n",
       "date                0\n",
       "likes               0\n",
       "content             0\n",
       "username            0\n",
       "media               0\n",
       "inferred company    0\n",
       "dtype: int64"
      ]
     },
     "execution_count": 5,
     "metadata": {},
     "output_type": "execute_result"
    }
   ],
   "source": [
    "df.isnull().sum()"
   ]
  },
  {
   "cell_type": "markdown",
   "id": "f37ec10e",
   "metadata": {},
   "source": [
    "### Converting date to datetime, adding has_media column and casing content"
   ]
  },
  {
   "cell_type": "code",
   "execution_count": 6,
   "id": "0ca6f9bc",
   "metadata": {},
   "outputs": [
    {
     "data": {
      "text/html": [
       "<div>\n",
       "<style scoped>\n",
       "    .dataframe tbody tr th:only-of-type {\n",
       "        vertical-align: middle;\n",
       "    }\n",
       "\n",
       "    .dataframe tbody tr th {\n",
       "        vertical-align: top;\n",
       "    }\n",
       "\n",
       "    .dataframe thead th {\n",
       "        text-align: right;\n",
       "    }\n",
       "</style>\n",
       "<table border=\"1\" class=\"dataframe\">\n",
       "  <thead>\n",
       "    <tr style=\"text-align: right;\">\n",
       "      <th></th>\n",
       "      <th>id</th>\n",
       "      <th>date</th>\n",
       "      <th>likes</th>\n",
       "      <th>content</th>\n",
       "      <th>username</th>\n",
       "      <th>media</th>\n",
       "      <th>inferred company</th>\n",
       "      <th>has_media</th>\n",
       "    </tr>\n",
       "  </thead>\n",
       "  <tbody>\n",
       "    <tr>\n",
       "      <th>0</th>\n",
       "      <td>1</td>\n",
       "      <td>2020-12-12 00:47:00</td>\n",
       "      <td>1</td>\n",
       "      <td>spend your weekend morning with a ham, egg, an...</td>\n",
       "      <td>TimHortonsPH</td>\n",
       "      <td>[Photo(previewUrl='https://pbs.twimg.com/media...</td>\n",
       "      <td>tim hortons</td>\n",
       "      <td>1</td>\n",
       "    </tr>\n",
       "    <tr>\n",
       "      <th>1</th>\n",
       "      <td>2</td>\n",
       "      <td>2018-06-30 10:04:20</td>\n",
       "      <td>2750</td>\n",
       "      <td>watch rapper &lt;mention&gt; freestyle for over an h...</td>\n",
       "      <td>IndyMusic</td>\n",
       "      <td>[Photo(previewUrl='https://pbs.twimg.com/media...</td>\n",
       "      <td>independent</td>\n",
       "      <td>1</td>\n",
       "    </tr>\n",
       "    <tr>\n",
       "      <th>2</th>\n",
       "      <td>3</td>\n",
       "      <td>2020-09-29 19:47:28</td>\n",
       "      <td>57</td>\n",
       "      <td>canadian armenian community demands ban on mil...</td>\n",
       "      <td>CBCCanada</td>\n",
       "      <td>[Photo(previewUrl='https://pbs.twimg.com/media...</td>\n",
       "      <td>cbc</td>\n",
       "      <td>1</td>\n",
       "    </tr>\n",
       "    <tr>\n",
       "      <th>3</th>\n",
       "      <td>4</td>\n",
       "      <td>2020-10-01 11:40:09</td>\n",
       "      <td>152</td>\n",
       "      <td>1st in europe to be devastated by covid-19, it...</td>\n",
       "      <td>MKWilliamsRome</td>\n",
       "      <td>[Photo(previewUrl='https://pbs.twimg.com/media...</td>\n",
       "      <td>williams</td>\n",
       "      <td>1</td>\n",
       "    </tr>\n",
       "    <tr>\n",
       "      <th>4</th>\n",
       "      <td>5</td>\n",
       "      <td>2018-10-19 14:30:46</td>\n",
       "      <td>41</td>\n",
       "      <td>congratulations to pauletha butts of &lt;mention&gt;...</td>\n",
       "      <td>BGISD</td>\n",
       "      <td>[Photo(previewUrl='https://pbs.twimg.com/media...</td>\n",
       "      <td>independent</td>\n",
       "      <td>1</td>\n",
       "    </tr>\n",
       "  </tbody>\n",
       "</table>\n",
       "</div>"
      ],
      "text/plain": [
       "   id                date  likes  \\\n",
       "0   1 2020-12-12 00:47:00      1   \n",
       "1   2 2018-06-30 10:04:20   2750   \n",
       "2   3 2020-09-29 19:47:28     57   \n",
       "3   4 2020-10-01 11:40:09    152   \n",
       "4   5 2018-10-19 14:30:46     41   \n",
       "\n",
       "                                             content        username  \\\n",
       "0  spend your weekend morning with a ham, egg, an...    TimHortonsPH   \n",
       "1  watch rapper <mention> freestyle for over an h...       IndyMusic   \n",
       "2  canadian armenian community demands ban on mil...       CBCCanada   \n",
       "3  1st in europe to be devastated by covid-19, it...  MKWilliamsRome   \n",
       "4  congratulations to pauletha butts of <mention>...           BGISD   \n",
       "\n",
       "                                               media inferred company  \\\n",
       "0  [Photo(previewUrl='https://pbs.twimg.com/media...      tim hortons   \n",
       "1  [Photo(previewUrl='https://pbs.twimg.com/media...      independent   \n",
       "2  [Photo(previewUrl='https://pbs.twimg.com/media...              cbc   \n",
       "3  [Photo(previewUrl='https://pbs.twimg.com/media...         williams   \n",
       "4  [Photo(previewUrl='https://pbs.twimg.com/media...      independent   \n",
       "\n",
       "   has_media  \n",
       "0          1  \n",
       "1          1  \n",
       "2          1  \n",
       "3          1  \n",
       "4          1  "
      ]
     },
     "execution_count": 6,
     "metadata": {},
     "output_type": "execute_result"
    }
   ],
   "source": [
    "df['content'] = df['content'].astype(str).str.strip().str.lower()\n",
    "df['date'] = pd.to_datetime(df['date'])\n",
    "df['has_media'] = 1\n",
    "df.head()"
   ]
  },
  {
   "cell_type": "markdown",
   "id": "2c39e3d5",
   "metadata": {},
   "source": [
    "### Adding hour, day, word_count and char_count columns"
   ]
  },
  {
   "cell_type": "code",
   "execution_count": 7,
   "id": "d3405f1a",
   "metadata": {},
   "outputs": [
    {
     "data": {
      "text/html": [
       "<div>\n",
       "<style scoped>\n",
       "    .dataframe tbody tr th:only-of-type {\n",
       "        vertical-align: middle;\n",
       "    }\n",
       "\n",
       "    .dataframe tbody tr th {\n",
       "        vertical-align: top;\n",
       "    }\n",
       "\n",
       "    .dataframe thead th {\n",
       "        text-align: right;\n",
       "    }\n",
       "</style>\n",
       "<table border=\"1\" class=\"dataframe\">\n",
       "  <thead>\n",
       "    <tr style=\"text-align: right;\">\n",
       "      <th></th>\n",
       "      <th>id</th>\n",
       "      <th>date</th>\n",
       "      <th>likes</th>\n",
       "      <th>content</th>\n",
       "      <th>username</th>\n",
       "      <th>media</th>\n",
       "      <th>inferred company</th>\n",
       "      <th>has_media</th>\n",
       "      <th>hour</th>\n",
       "      <th>day</th>\n",
       "      <th>word_count</th>\n",
       "      <th>char_count</th>\n",
       "    </tr>\n",
       "  </thead>\n",
       "  <tbody>\n",
       "    <tr>\n",
       "      <th>0</th>\n",
       "      <td>1</td>\n",
       "      <td>2020-12-12 00:47:00</td>\n",
       "      <td>1</td>\n",
       "      <td>spend your weekend morning with a ham, egg, an...</td>\n",
       "      <td>TimHortonsPH</td>\n",
       "      <td>[Photo(previewUrl='https://pbs.twimg.com/media...</td>\n",
       "      <td>tim hortons</td>\n",
       "      <td>1</td>\n",
       "      <td>0</td>\n",
       "      <td>Saturday</td>\n",
       "      <td>29</td>\n",
       "      <td>181</td>\n",
       "    </tr>\n",
       "    <tr>\n",
       "      <th>1</th>\n",
       "      <td>2</td>\n",
       "      <td>2018-06-30 10:04:20</td>\n",
       "      <td>2750</td>\n",
       "      <td>watch rapper &lt;mention&gt; freestyle for over an h...</td>\n",
       "      <td>IndyMusic</td>\n",
       "      <td>[Photo(previewUrl='https://pbs.twimg.com/media...</td>\n",
       "      <td>independent</td>\n",
       "      <td>1</td>\n",
       "      <td>10</td>\n",
       "      <td>Saturday</td>\n",
       "      <td>10</td>\n",
       "      <td>73</td>\n",
       "    </tr>\n",
       "    <tr>\n",
       "      <th>2</th>\n",
       "      <td>3</td>\n",
       "      <td>2020-09-29 19:47:28</td>\n",
       "      <td>57</td>\n",
       "      <td>canadian armenian community demands ban on mil...</td>\n",
       "      <td>CBCCanada</td>\n",
       "      <td>[Photo(previewUrl='https://pbs.twimg.com/media...</td>\n",
       "      <td>cbc</td>\n",
       "      <td>1</td>\n",
       "      <td>19</td>\n",
       "      <td>Tuesday</td>\n",
       "      <td>14</td>\n",
       "      <td>104</td>\n",
       "    </tr>\n",
       "    <tr>\n",
       "      <th>3</th>\n",
       "      <td>4</td>\n",
       "      <td>2020-10-01 11:40:09</td>\n",
       "      <td>152</td>\n",
       "      <td>1st in europe to be devastated by covid-19, it...</td>\n",
       "      <td>MKWilliamsRome</td>\n",
       "      <td>[Photo(previewUrl='https://pbs.twimg.com/media...</td>\n",
       "      <td>williams</td>\n",
       "      <td>1</td>\n",
       "      <td>11</td>\n",
       "      <td>Thursday</td>\n",
       "      <td>22</td>\n",
       "      <td>140</td>\n",
       "    </tr>\n",
       "    <tr>\n",
       "      <th>4</th>\n",
       "      <td>5</td>\n",
       "      <td>2018-10-19 14:30:46</td>\n",
       "      <td>41</td>\n",
       "      <td>congratulations to pauletha butts of &lt;mention&gt;...</td>\n",
       "      <td>BGISD</td>\n",
       "      <td>[Photo(previewUrl='https://pbs.twimg.com/media...</td>\n",
       "      <td>independent</td>\n",
       "      <td>1</td>\n",
       "      <td>14</td>\n",
       "      <td>Friday</td>\n",
       "      <td>26</td>\n",
       "      <td>199</td>\n",
       "    </tr>\n",
       "  </tbody>\n",
       "</table>\n",
       "</div>"
      ],
      "text/plain": [
       "   id                date  likes  \\\n",
       "0   1 2020-12-12 00:47:00      1   \n",
       "1   2 2018-06-30 10:04:20   2750   \n",
       "2   3 2020-09-29 19:47:28     57   \n",
       "3   4 2020-10-01 11:40:09    152   \n",
       "4   5 2018-10-19 14:30:46     41   \n",
       "\n",
       "                                             content        username  \\\n",
       "0  spend your weekend morning with a ham, egg, an...    TimHortonsPH   \n",
       "1  watch rapper <mention> freestyle for over an h...       IndyMusic   \n",
       "2  canadian armenian community demands ban on mil...       CBCCanada   \n",
       "3  1st in europe to be devastated by covid-19, it...  MKWilliamsRome   \n",
       "4  congratulations to pauletha butts of <mention>...           BGISD   \n",
       "\n",
       "                                               media inferred company  \\\n",
       "0  [Photo(previewUrl='https://pbs.twimg.com/media...      tim hortons   \n",
       "1  [Photo(previewUrl='https://pbs.twimg.com/media...      independent   \n",
       "2  [Photo(previewUrl='https://pbs.twimg.com/media...              cbc   \n",
       "3  [Photo(previewUrl='https://pbs.twimg.com/media...         williams   \n",
       "4  [Photo(previewUrl='https://pbs.twimg.com/media...      independent   \n",
       "\n",
       "   has_media  hour       day  word_count  char_count  \n",
       "0          1     0  Saturday          29         181  \n",
       "1          1    10  Saturday          10          73  \n",
       "2          1    19   Tuesday          14         104  \n",
       "3          1    11  Thursday          22         140  \n",
       "4          1    14    Friday          26         199  "
      ]
     },
     "execution_count": 7,
     "metadata": {},
     "output_type": "execute_result"
    }
   ],
   "source": [
    "df['hour'] = df['date'].dt.hour\n",
    "df['day'] = df['date'].dt.day_name()\n",
    "df['word_count'] = df['content'].apply(lambda x: len(x.split()))\n",
    "df['char_count'] = df['content'].apply(len)\n",
    "df.head()"
   ]
  },
  {
   "cell_type": "markdown",
   "id": "5d2a2da6",
   "metadata": {},
   "source": [
    "### Basic plotting"
   ]
  },
  {
   "cell_type": "code",
   "execution_count": 8,
   "id": "8c53093d",
   "metadata": {},
   "outputs": [
    {
     "data": {
      "text/plain": [
       "<Axes: xlabel='likes'>"
      ]
     },
     "execution_count": 8,
     "metadata": {},
     "output_type": "execute_result"
    },
    {
     "data": {
      "image/png": "[encoded data removed]",
      "text/plain": [
       "<Figure size 640x480 with 1 Axes>"
      ]
     },
     "metadata": {},
     "output_type": "display_data"
    }
   ],
   "source": [
    "sns.boxplot(x=df['likes'])"
   ]
  },
  {
   "cell_type": "code",
   "execution_count": 9,
   "id": "ae1f793b",
   "metadata": {},
   "outputs": [
    {
     "data": {
      "text/plain": [
       "<Axes: xlabel='likes', ylabel='Count'>"
      ]
     },
     "execution_count": 9,
     "metadata": {},
     "output_type": "execute_result"
    },
    {
     "data": {
      "image/png": "[encoded data removed]",
      "text/plain": [
       "<Figure size 640x480 with 1 Axes>"
      ]
     },
     "metadata": {},
     "output_type": "display_data"
    }
   ],
   "source": [
    "sns.histplot(df['likes'], kde=True)"
   ]
  }
 ],
 "metadata": {
  "kernelspec": {
   "display_name": "Python 3",
   "language": "python",
   "name": "python3"
  },
  "language_info": {
   "codemirror_mode": {
    "name": "ipython",
    "version": 3
   },
   "file_extension": ".py",
   "mimetype": "text/x-python",
   "name": "python",
   "nbconvert_exporter": "python",
   "pygments_lexer": "ipython3",
   "version": "3.13.1"
  }
 },
 "nbformat": 4,
 "nbformat_minor": 5
}
