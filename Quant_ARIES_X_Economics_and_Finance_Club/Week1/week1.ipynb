{
 "cells": [
  {
   "cell_type": "markdown",
   "id": "00db8661",
   "metadata": {},
   "source": [
    "## Week1 Work\n",
    "### Importing necessary libraries"
   ]
  },
  {
   "cell_type": "code",
   "execution_count": 32,
   "id": "ce2eb96c",
   "metadata": {
    "_cell_guid": "b1076dfc-b9ad-4769-8c92-a6c4dae69d19",
    "_uuid": "8f2839f25d086af736a60e9eeb907d3b93b6e0e5",
    "execution": {
     "iopub.execute_input": "2025-05-31T07:02:48.762837Z",
     "iopub.status.busy": "2025-05-31T07:02:48.762491Z",
     "iopub.status.idle": "2025-05-31T07:02:50.864301Z",
     "shell.execute_reply": "2025-05-31T07:02:50.863267Z"
    },
    "papermill": {
     "duration": 2.108334,
     "end_time": "2025-05-31T07:02:50.866430",
     "exception": false,
     "start_time": "2025-05-31T07:02:48.758096",
     "status": "completed"
    },
    "tags": []
   },
   "outputs": [],
   "source": [
    "import numpy as np\n",
    "import pandas as pd\n",
    "import matplotlib.pyplot as plt"
   ]
  },
  {
   "cell_type": "markdown",
   "id": "12833f0d",
   "metadata": {},
   "source": [
    "### Importing the data from txt files into pandas dfs"
   ]
  },
  {
   "cell_type": "code",
   "execution_count": 33,
   "id": "53d000bc",
   "metadata": {
    "execution": {
     "iopub.execute_input": "2025-05-31T07:02:50.873751Z",
     "iopub.status.busy": "2025-05-31T07:02:50.873315Z",
     "iopub.status.idle": "2025-05-31T07:02:51.035254Z",
     "shell.execute_reply": "2025-05-31T07:02:51.034271Z"
    },
    "papermill": {
     "duration": 0.167531,
     "end_time": "2025-05-31T07:02:51.037104",
     "exception": false,
     "start_time": "2025-05-31T07:02:50.869573",
     "status": "completed"
    },
    "tags": []
   },
   "outputs": [],
   "source": [
    "files_to_import = ['../aapl.us.txt', '../msft.us.txt', '../amzn.us.txt', '../tsla.us.txt', '../googl.us.txt']\n",
    "dataframes = {file: pd.read_csv(file) for file in files_to_import}\n",
    "\n",
    "aapl_df = dataframes['../aapl.us.txt']\n",
    "msft_df = dataframes['../msft.us.txt']\n",
    "amzn_df = dataframes['../amzn.us.txt']\n",
    "tsla_df = dataframes['../tsla.us.txt']\n",
    "googl_df = dataframes['../googl.us.txt']"
   ]
  },
  {
   "cell_type": "code",
   "execution_count": 34,
   "id": "516fb453",
   "metadata": {
    "execution": {
     "iopub.execute_input": "2025-05-31T07:02:51.043648Z",
     "iopub.status.busy": "2025-05-31T07:02:51.043361Z",
     "iopub.status.idle": "2025-05-31T07:02:51.056452Z",
     "shell.execute_reply": "2025-05-31T07:02:51.055478Z"
    },
    "papermill": {
     "duration": 0.018295,
     "end_time": "2025-05-31T07:02:51.058138",
     "exception": false,
     "start_time": "2025-05-31T07:02:51.039843",
     "status": "completed"
    },
    "tags": []
   },
   "outputs": [],
   "source": [
    "aapl_df['Ticker'] = 'AAPL'\n",
    "msft_df['Ticker'] = 'MSFT'\n",
    "amzn_df['Ticker'] = 'AMZN'\n",
    "tsla_df['Ticker'] = 'TSLA'\n",
    "googl_df['Ticker'] = 'GOOGL'"
   ]
  },
  {
   "cell_type": "markdown",
   "id": "844b54db",
   "metadata": {},
   "source": [
    "### Converting the date column to datetime variable and setting the df to be multi-indexed based on Ticker and Date"
   ]
  },
  {
   "cell_type": "code",
   "execution_count": 35,
   "id": "7cb039d5",
   "metadata": {
    "execution": {
     "iopub.execute_input": "2025-05-31T07:02:51.064859Z",
     "iopub.status.busy": "2025-05-31T07:02:51.064567Z",
     "iopub.status.idle": "2025-05-31T07:02:51.123179Z",
     "shell.execute_reply": "2025-05-31T07:02:51.122321Z"
    },
    "papermill": {
     "duration": 0.065198,
     "end_time": "2025-05-31T07:02:51.126012",
     "exception": false,
     "start_time": "2025-05-31T07:02:51.060814",
     "status": "completed"
    },
    "tags": []
   },
   "outputs": [],
   "source": [
    "for df in [aapl_df, msft_df, amzn_df, tsla_df, googl_df]:\n",
    "    df['Date'] = pd.to_datetime(df['Date'])\n",
    "for df in [aapl_df, msft_df, amzn_df, tsla_df, googl_df]:\n",
    "    df.set_index(['Ticker', 'Date'], inplace=True)"
   ]
  },
  {
   "cell_type": "markdown",
   "id": "62dbd6e3",
   "metadata": {},
   "source": [
    "### Dropping openint column and combining dfs"
   ]
  },
  {
   "cell_type": "code",
   "execution_count": 36,
   "id": "87dd785f",
   "metadata": {
    "execution": {
     "iopub.execute_input": "2025-05-31T07:02:51.135502Z",
     "iopub.status.busy": "2025-05-31T07:02:51.135187Z",
     "iopub.status.idle": "2025-05-31T07:02:51.210117Z",
     "shell.execute_reply": "2025-05-31T07:02:51.209151Z"
    },
    "papermill": {
     "duration": 0.080321,
     "end_time": "2025-05-31T07:02:51.211605",
     "exception": false,
     "start_time": "2025-05-31T07:02:51.131284",
     "status": "completed"
    },
    "tags": []
   },
   "outputs": [
    {
     "data": {
      "text/html": [
       "<div>\n",
       "<style scoped>\n",
       "    .dataframe tbody tr th:only-of-type {\n",
       "        vertical-align: middle;\n",
       "    }\n",
       "\n",
       "    .dataframe tbody tr th {\n",
       "        vertical-align: top;\n",
       "    }\n",
       "\n",
       "    .dataframe thead th {\n",
       "        text-align: right;\n",
       "    }\n",
       "</style>\n",
       "<table border=\"1\" class=\"dataframe\">\n",
       "  <thead>\n",
       "    <tr style=\"text-align: right;\">\n",
       "      <th></th>\n",
       "      <th></th>\n",
       "      <th>Open</th>\n",
       "      <th>High</th>\n",
       "      <th>Low</th>\n",
       "      <th>Close</th>\n",
       "      <th>Volume</th>\n",
       "    </tr>\n",
       "    <tr>\n",
       "      <th>Ticker</th>\n",
       "      <th>Date</th>\n",
       "      <th></th>\n",
       "      <th></th>\n",
       "      <th></th>\n",
       "      <th></th>\n",
       "      <th></th>\n",
       "    </tr>\n",
       "  </thead>\n",
       "  <tbody>\n",
       "    <tr>\n",
       "      <th rowspan=\"5\" valign=\"top\">AAPL</th>\n",
       "      <th>1984-09-07</th>\n",
       "      <td>0.42388</td>\n",
       "      <td>0.42902</td>\n",
       "      <td>0.41874</td>\n",
       "      <td>0.42388</td>\n",
       "      <td>23220030</td>\n",
       "    </tr>\n",
       "    <tr>\n",
       "      <th>1984-09-10</th>\n",
       "      <td>0.42388</td>\n",
       "      <td>0.42516</td>\n",
       "      <td>0.41366</td>\n",
       "      <td>0.42134</td>\n",
       "      <td>18022532</td>\n",
       "    </tr>\n",
       "    <tr>\n",
       "      <th>1984-09-11</th>\n",
       "      <td>0.42516</td>\n",
       "      <td>0.43668</td>\n",
       "      <td>0.42516</td>\n",
       "      <td>0.42902</td>\n",
       "      <td>42498199</td>\n",
       "    </tr>\n",
       "    <tr>\n",
       "      <th>1984-09-12</th>\n",
       "      <td>0.42902</td>\n",
       "      <td>0.43157</td>\n",
       "      <td>0.41618</td>\n",
       "      <td>0.41618</td>\n",
       "      <td>37125801</td>\n",
       "    </tr>\n",
       "    <tr>\n",
       "      <th>1984-09-13</th>\n",
       "      <td>0.43927</td>\n",
       "      <td>0.44052</td>\n",
       "      <td>0.43927</td>\n",
       "      <td>0.43927</td>\n",
       "      <td>57822062</td>\n",
       "    </tr>\n",
       "    <tr>\n",
       "      <th>...</th>\n",
       "      <th>...</th>\n",
       "      <td>...</td>\n",
       "      <td>...</td>\n",
       "      <td>...</td>\n",
       "      <td>...</td>\n",
       "      <td>...</td>\n",
       "    </tr>\n",
       "    <tr>\n",
       "      <th rowspan=\"5\" valign=\"top\">TSLA</th>\n",
       "      <th>2017-11-06</th>\n",
       "      <td>307.00000</td>\n",
       "      <td>307.50000</td>\n",
       "      <td>299.01000</td>\n",
       "      <td>302.78000</td>\n",
       "      <td>6482486</td>\n",
       "    </tr>\n",
       "    <tr>\n",
       "      <th>2017-11-07</th>\n",
       "      <td>301.02000</td>\n",
       "      <td>306.50000</td>\n",
       "      <td>300.03000</td>\n",
       "      <td>306.05000</td>\n",
       "      <td>5286320</td>\n",
       "    </tr>\n",
       "    <tr>\n",
       "      <th>2017-11-08</th>\n",
       "      <td>305.50000</td>\n",
       "      <td>306.89000</td>\n",
       "      <td>301.30000</td>\n",
       "      <td>304.31000</td>\n",
       "      <td>4725510</td>\n",
       "    </tr>\n",
       "    <tr>\n",
       "      <th>2017-11-09</th>\n",
       "      <td>302.50000</td>\n",
       "      <td>304.46000</td>\n",
       "      <td>296.30000</td>\n",
       "      <td>302.99000</td>\n",
       "      <td>5440335</td>\n",
       "    </tr>\n",
       "    <tr>\n",
       "      <th>2017-11-10</th>\n",
       "      <td>302.50000</td>\n",
       "      <td>308.36000</td>\n",
       "      <td>301.85000</td>\n",
       "      <td>302.99000</td>\n",
       "      <td>4621912</td>\n",
       "    </tr>\n",
       "  </tbody>\n",
       "</table>\n",
       "<p>26691 rows × 5 columns</p>\n",
       "</div>"
      ],
      "text/plain": [
       "                        Open       High        Low      Close    Volume\n",
       "Ticker Date                                                            \n",
       "AAPL   1984-09-07    0.42388    0.42902    0.41874    0.42388  23220030\n",
       "       1984-09-10    0.42388    0.42516    0.41366    0.42134  18022532\n",
       "       1984-09-11    0.42516    0.43668    0.42516    0.42902  42498199\n",
       "       1984-09-12    0.42902    0.43157    0.41618    0.41618  37125801\n",
       "       1984-09-13    0.43927    0.44052    0.43927    0.43927  57822062\n",
       "...                      ...        ...        ...        ...       ...\n",
       "TSLA   2017-11-06  307.00000  307.50000  299.01000  302.78000   6482486\n",
       "       2017-11-07  301.02000  306.50000  300.03000  306.05000   5286320\n",
       "       2017-11-08  305.50000  306.89000  301.30000  304.31000   4725510\n",
       "       2017-11-09  302.50000  304.46000  296.30000  302.99000   5440335\n",
       "       2017-11-10  302.50000  308.36000  301.85000  302.99000   4621912\n",
       "\n",
       "[26691 rows x 5 columns]"
      ]
     },
     "execution_count": 36,
     "metadata": {},
     "output_type": "execute_result"
    }
   ],
   "source": [
    "df_multi = pd.concat([aapl_df, msft_df, amzn_df, tsla_df, googl_df])\n",
    "df_multi.sort_index(inplace=True)\n",
    "df_multi = df_multi.drop(columns='OpenInt')\n",
    "df_multi"
   ]
  },
  {
   "cell_type": "markdown",
   "id": "0c706607",
   "metadata": {},
   "source": [
    "### Basic data information and analysis"
   ]
  },
  {
   "cell_type": "code",
   "execution_count": 37,
   "id": "d7fad5c8",
   "metadata": {},
   "outputs": [
    {
     "data": {
      "text/plain": [
       "(26691, 5)"
      ]
     },
     "execution_count": 37,
     "metadata": {},
     "output_type": "execute_result"
    }
   ],
   "source": [
    "df_multi.shape"
   ]
  },
  {
   "cell_type": "code",
   "execution_count": 38,
   "id": "3ae83321",
   "metadata": {},
   "outputs": [
    {
     "name": "stdout",
     "output_type": "stream",
     "text": [
      "<class 'pandas.core.frame.DataFrame'>\n",
      "MultiIndex: 26691 entries, ('AAPL', Timestamp('1984-09-07 00:00:00')) to ('TSLA', Timestamp('2017-11-10 00:00:00'))\n",
      "Data columns (total 5 columns):\n",
      " #   Column  Non-Null Count  Dtype  \n",
      "---  ------  --------------  -----  \n",
      " 0   Open    26691 non-null  float64\n",
      " 1   High    26691 non-null  float64\n",
      " 2   Low     26691 non-null  float64\n",
      " 3   Close   26691 non-null  float64\n",
      " 4   Volume  26691 non-null  int64  \n",
      "dtypes: float64(4), int64(1)\n",
      "memory usage: 1.4+ MB\n"
     ]
    }
   ],
   "source": [
    "df_multi.info()"
   ]
  },
  {
   "cell_type": "code",
   "execution_count": 39,
   "id": "59f2ca74",
   "metadata": {},
   "outputs": [
    {
     "data": {
      "text/html": [
       "<div>\n",
       "<style scoped>\n",
       "    .dataframe tbody tr th:only-of-type {\n",
       "        vertical-align: middle;\n",
       "    }\n",
       "\n",
       "    .dataframe tbody tr th {\n",
       "        vertical-align: top;\n",
       "    }\n",
       "\n",
       "    .dataframe thead th {\n",
       "        text-align: right;\n",
       "    }\n",
       "</style>\n",
       "<table border=\"1\" class=\"dataframe\">\n",
       "  <thead>\n",
       "    <tr style=\"text-align: right;\">\n",
       "      <th></th>\n",
       "      <th>Open</th>\n",
       "      <th>High</th>\n",
       "      <th>Low</th>\n",
       "      <th>Close</th>\n",
       "      <th>Volume</th>\n",
       "    </tr>\n",
       "  </thead>\n",
       "  <tbody>\n",
       "    <tr>\n",
       "      <th>count</th>\n",
       "      <td>26691.000000</td>\n",
       "      <td>26691.000000</td>\n",
       "      <td>26691.000000</td>\n",
       "      <td>26691.000000</td>\n",
       "      <td>2.669100e+04</td>\n",
       "    </tr>\n",
       "    <tr>\n",
       "      <th>mean</th>\n",
       "      <td>106.916292</td>\n",
       "      <td>108.054272</td>\n",
       "      <td>105.682690</td>\n",
       "      <td>106.901946</td>\n",
       "      <td>5.999620e+07</td>\n",
       "    </tr>\n",
       "    <tr>\n",
       "      <th>std</th>\n",
       "      <td>187.310525</td>\n",
       "      <td>188.767736</td>\n",
       "      <td>185.632213</td>\n",
       "      <td>187.267739</td>\n",
       "      <td>7.616379e+07</td>\n",
       "    </tr>\n",
       "    <tr>\n",
       "      <th>min</th>\n",
       "      <td>0.067200</td>\n",
       "      <td>0.067200</td>\n",
       "      <td>0.067200</td>\n",
       "      <td>0.067200</td>\n",
       "      <td>0.000000e+00</td>\n",
       "    </tr>\n",
       "    <tr>\n",
       "      <th>25%</th>\n",
       "      <td>2.054500</td>\n",
       "      <td>2.088200</td>\n",
       "      <td>2.021000</td>\n",
       "      <td>2.054500</td>\n",
       "      <td>6.906406e+06</td>\n",
       "    </tr>\n",
       "    <tr>\n",
       "      <th>50%</th>\n",
       "      <td>25.090000</td>\n",
       "      <td>25.385000</td>\n",
       "      <td>24.797000</td>\n",
       "      <td>25.099000</td>\n",
       "      <td>3.978104e+07</td>\n",
       "    </tr>\n",
       "    <tr>\n",
       "      <th>75%</th>\n",
       "      <td>112.190000</td>\n",
       "      <td>113.735000</td>\n",
       "      <td>111.205000</td>\n",
       "      <td>112.785000</td>\n",
       "      <td>8.320867e+07</td>\n",
       "    </tr>\n",
       "    <tr>\n",
       "      <th>max</th>\n",
       "      <td>1126.100000</td>\n",
       "      <td>1135.540000</td>\n",
       "      <td>1124.060000</td>\n",
       "      <td>1132.880000</td>\n",
       "      <td>2.069770e+09</td>\n",
       "    </tr>\n",
       "  </tbody>\n",
       "</table>\n",
       "</div>"
      ],
      "text/plain": [
       "               Open          High           Low         Close        Volume\n",
       "count  26691.000000  26691.000000  26691.000000  26691.000000  2.669100e+04\n",
       "mean     106.916292    108.054272    105.682690    106.901946  5.999620e+07\n",
       "std      187.310525    188.767736    185.632213    187.267739  7.616379e+07\n",
       "min        0.067200      0.067200      0.067200      0.067200  0.000000e+00\n",
       "25%        2.054500      2.088200      2.021000      2.054500  6.906406e+06\n",
       "50%       25.090000     25.385000     24.797000     25.099000  3.978104e+07\n",
       "75%      112.190000    113.735000    111.205000    112.785000  8.320867e+07\n",
       "max     1126.100000   1135.540000   1124.060000   1132.880000  2.069770e+09"
      ]
     },
     "execution_count": 39,
     "metadata": {},
     "output_type": "execute_result"
    }
   ],
   "source": [
    "df_multi.describe()"
   ]
  },
  {
   "cell_type": "markdown",
   "id": "8e07359f",
   "metadata": {},
   "source": [
    "### Checking presence of null values"
   ]
  },
  {
   "cell_type": "code",
   "execution_count": 40,
   "id": "1c3221cb",
   "metadata": {
    "execution": {
     "iopub.execute_input": "2025-05-31T07:02:51.221669Z",
     "iopub.status.busy": "2025-05-31T07:02:51.220862Z",
     "iopub.status.idle": "2025-05-31T07:02:51.233620Z",
     "shell.execute_reply": "2025-05-31T07:02:51.232553Z"
    },
    "papermill": {
     "duration": 0.021778,
     "end_time": "2025-05-31T07:02:51.236412",
     "exception": false,
     "start_time": "2025-05-31T07:02:51.214634",
     "status": "completed"
    },
    "tags": []
   },
   "outputs": [
    {
     "data": {
      "text/plain": [
       "Open      0\n",
       "High      0\n",
       "Low       0\n",
       "Close     0\n",
       "Volume    0\n",
       "dtype: int64"
      ]
     },
     "execution_count": 40,
     "metadata": {},
     "output_type": "execute_result"
    }
   ],
   "source": [
    "df_multi.isna().sum()"
   ]
  },
  {
   "cell_type": "markdown",
   "id": "5be634ef",
   "metadata": {},
   "source": [
    "### Ensuring all stocks are in the same date range, based on TSLA's data"
   ]
  },
  {
   "cell_type": "code",
   "execution_count": 41,
   "id": "89e65cb0",
   "metadata": {
    "execution": {
     "iopub.execute_input": "2025-05-31T07:02:51.248736Z",
     "iopub.status.busy": "2025-05-31T07:02:51.248272Z",
     "iopub.status.idle": "2025-05-31T07:02:51.268874Z",
     "shell.execute_reply": "2025-05-31T07:02:51.267588Z"
    },
    "papermill": {
     "duration": 0.029234,
     "end_time": "2025-05-31T07:02:51.271338",
     "exception": false,
     "start_time": "2025-05-31T07:02:51.242104",
     "status": "completed"
    },
    "tags": []
   },
   "outputs": [
    {
     "data": {
      "text/html": [
       "<div>\n",
       "<style scoped>\n",
       "    .dataframe tbody tr th:only-of-type {\n",
       "        vertical-align: middle;\n",
       "    }\n",
       "\n",
       "    .dataframe tbody tr th {\n",
       "        vertical-align: top;\n",
       "    }\n",
       "\n",
       "    .dataframe thead th {\n",
       "        text-align: right;\n",
       "    }\n",
       "</style>\n",
       "<table border=\"1\" class=\"dataframe\">\n",
       "  <thead>\n",
       "    <tr style=\"text-align: right;\">\n",
       "      <th></th>\n",
       "      <th>Open</th>\n",
       "      <th>High</th>\n",
       "      <th>Low</th>\n",
       "      <th>Close</th>\n",
       "      <th>Volume</th>\n",
       "    </tr>\n",
       "    <tr>\n",
       "      <th>Date</th>\n",
       "      <th></th>\n",
       "      <th></th>\n",
       "      <th></th>\n",
       "      <th></th>\n",
       "      <th></th>\n",
       "    </tr>\n",
       "  </thead>\n",
       "  <tbody>\n",
       "    <tr>\n",
       "      <th>2010-06-28</th>\n",
       "      <td>34.191</td>\n",
       "      <td>34.545</td>\n",
       "      <td>33.874</td>\n",
       "      <td>34.360</td>\n",
       "      <td>163083315</td>\n",
       "    </tr>\n",
       "    <tr>\n",
       "      <th>2010-06-29</th>\n",
       "      <td>33.856</td>\n",
       "      <td>33.856</td>\n",
       "      <td>32.565</td>\n",
       "      <td>32.806</td>\n",
       "      <td>315472195</td>\n",
       "    </tr>\n",
       "    <tr>\n",
       "      <th>2010-06-30</th>\n",
       "      <td>32.877</td>\n",
       "      <td>33.036</td>\n",
       "      <td>32.020</td>\n",
       "      <td>32.212</td>\n",
       "      <td>205878957</td>\n",
       "    </tr>\n",
       "    <tr>\n",
       "      <th>2010-07-01</th>\n",
       "      <td>32.542</td>\n",
       "      <td>32.629</td>\n",
       "      <td>31.147</td>\n",
       "      <td>31.823</td>\n",
       "      <td>285057573</td>\n",
       "    </tr>\n",
       "    <tr>\n",
       "      <th>2010-07-02</th>\n",
       "      <td>32.103</td>\n",
       "      <td>32.132</td>\n",
       "      <td>31.144</td>\n",
       "      <td>31.623</td>\n",
       "      <td>193495389</td>\n",
       "    </tr>\n",
       "    <tr>\n",
       "      <th>...</th>\n",
       "      <td>...</td>\n",
       "      <td>...</td>\n",
       "      <td>...</td>\n",
       "      <td>...</td>\n",
       "      <td>...</td>\n",
       "    </tr>\n",
       "    <tr>\n",
       "      <th>2017-11-06</th>\n",
       "      <td>171.750</td>\n",
       "      <td>174.360</td>\n",
       "      <td>171.100</td>\n",
       "      <td>173.630</td>\n",
       "      <td>34901241</td>\n",
       "    </tr>\n",
       "    <tr>\n",
       "      <th>2017-11-07</th>\n",
       "      <td>173.290</td>\n",
       "      <td>174.510</td>\n",
       "      <td>173.290</td>\n",
       "      <td>174.180</td>\n",
       "      <td>24424877</td>\n",
       "    </tr>\n",
       "    <tr>\n",
       "      <th>2017-11-08</th>\n",
       "      <td>174.030</td>\n",
       "      <td>175.610</td>\n",
       "      <td>173.710</td>\n",
       "      <td>175.610</td>\n",
       "      <td>24451166</td>\n",
       "    </tr>\n",
       "    <tr>\n",
       "      <th>2017-11-09</th>\n",
       "      <td>174.480</td>\n",
       "      <td>175.460</td>\n",
       "      <td>172.520</td>\n",
       "      <td>175.250</td>\n",
       "      <td>29533086</td>\n",
       "    </tr>\n",
       "    <tr>\n",
       "      <th>2017-11-10</th>\n",
       "      <td>175.110</td>\n",
       "      <td>175.380</td>\n",
       "      <td>174.270</td>\n",
       "      <td>174.670</td>\n",
       "      <td>25130494</td>\n",
       "    </tr>\n",
       "  </tbody>\n",
       "</table>\n",
       "<p>1859 rows × 5 columns</p>\n",
       "</div>"
      ],
      "text/plain": [
       "               Open     High      Low    Close     Volume\n",
       "Date                                                     \n",
       "2010-06-28   34.191   34.545   33.874   34.360  163083315\n",
       "2010-06-29   33.856   33.856   32.565   32.806  315472195\n",
       "2010-06-30   32.877   33.036   32.020   32.212  205878957\n",
       "2010-07-01   32.542   32.629   31.147   31.823  285057573\n",
       "2010-07-02   32.103   32.132   31.144   31.623  193495389\n",
       "...             ...      ...      ...      ...        ...\n",
       "2017-11-06  171.750  174.360  171.100  173.630   34901241\n",
       "2017-11-07  173.290  174.510  173.290  174.180   24424877\n",
       "2017-11-08  174.030  175.610  173.710  175.610   24451166\n",
       "2017-11-09  174.480  175.460  172.520  175.250   29533086\n",
       "2017-11-10  175.110  175.380  174.270  174.670   25130494\n",
       "\n",
       "[1859 rows x 5 columns]"
      ]
     },
     "execution_count": 41,
     "metadata": {},
     "output_type": "execute_result"
    }
   ],
   "source": [
    "end_date = pd.Timestamp('2017-11-10')\n",
    "start_date = pd.Timestamp('2010-06-28')\n",
    "\n",
    "df = df_multi[(df_multi.index.get_level_values('Date') >= start_date) &\n",
    "                      (df_multi.index.get_level_values('Date') <= end_date)]\n",
    "df.loc['AAPL']"
   ]
  },
  {
   "cell_type": "markdown",
   "id": "5bdc3e3c",
   "metadata": {},
   "source": [
    "### Adding Daily Return, 7 day Moving Average, 30 day Moving Average and 30 day Rolling Volatility columns"
   ]
  },
  {
   "cell_type": "code",
   "execution_count": 42,
   "id": "88847682",
   "metadata": {
    "execution": {
     "iopub.execute_input": "2025-05-31T07:02:51.282088Z",
     "iopub.status.busy": "2025-05-31T07:02:51.281161Z",
     "iopub.status.idle": "2025-05-31T07:02:51.339999Z",
     "shell.execute_reply": "2025-05-31T07:02:51.338768Z"
    },
    "papermill": {
     "duration": 0.06494,
     "end_time": "2025-05-31T07:02:51.341881",
     "exception": false,
     "start_time": "2025-05-31T07:02:51.276941",
     "status": "completed"
    },
    "tags": []
   },
   "outputs": [
    {
     "name": "stderr",
     "output_type": "stream",
     "text": [
      "C:\\Users\\Akshat\\AppData\\Local\\Temp\\ipykernel_19748\\1215657418.py:1: SettingWithCopyWarning: \n",
      "A value is trying to be set on a copy of a slice from a DataFrame.\n",
      "Try using .loc[row_indexer,col_indexer] = value instead\n",
      "\n",
      "See the caveats in the documentation: https://pandas.pydata.org/pandas-docs/stable/user_guide/indexing.html#returning-a-view-versus-a-copy\n",
      "  df['Daily Return'] = df.groupby(level='Ticker')['Close'].pct_change()*100\n",
      "C:\\Users\\Akshat\\AppData\\Local\\Temp\\ipykernel_19748\\1215657418.py:2: SettingWithCopyWarning: \n",
      "A value is trying to be set on a copy of a slice from a DataFrame.\n",
      "Try using .loc[row_indexer,col_indexer] = value instead\n",
      "\n",
      "See the caveats in the documentation: https://pandas.pydata.org/pandas-docs/stable/user_guide/indexing.html#returning-a-view-versus-a-copy\n",
      "  df['7D MA'] = df.groupby(level='Ticker')['Close'].transform(lambda x: x.rolling(window=7).mean())\n",
      "C:\\Users\\Akshat\\AppData\\Local\\Temp\\ipykernel_19748\\1215657418.py:3: SettingWithCopyWarning: \n",
      "A value is trying to be set on a copy of a slice from a DataFrame.\n",
      "Try using .loc[row_indexer,col_indexer] = value instead\n",
      "\n",
      "See the caveats in the documentation: https://pandas.pydata.org/pandas-docs/stable/user_guide/indexing.html#returning-a-view-versus-a-copy\n",
      "  df['30D MA'] = df.groupby(level='Ticker')['Close'].transform(lambda x: x.rolling(window=30).mean())\n",
      "C:\\Users\\Akshat\\AppData\\Local\\Temp\\ipykernel_19748\\1215657418.py:4: SettingWithCopyWarning: \n",
      "A value is trying to be set on a copy of a slice from a DataFrame.\n",
      "Try using .loc[row_indexer,col_indexer] = value instead\n",
      "\n",
      "See the caveats in the documentation: https://pandas.pydata.org/pandas-docs/stable/user_guide/indexing.html#returning-a-view-versus-a-copy\n",
      "  df['30D RV'] = df.groupby(level='Ticker')['Daily Return'].transform(lambda x: x.rolling(window=30).std())\n"
     ]
    },
    {
     "data": {
      "text/html": [
       "<div>\n",
       "<style scoped>\n",
       "    .dataframe tbody tr th:only-of-type {\n",
       "        vertical-align: middle;\n",
       "    }\n",
       "\n",
       "    .dataframe tbody tr th {\n",
       "        vertical-align: top;\n",
       "    }\n",
       "\n",
       "    .dataframe thead th {\n",
       "        text-align: right;\n",
       "    }\n",
       "</style>\n",
       "<table border=\"1\" class=\"dataframe\">\n",
       "  <thead>\n",
       "    <tr style=\"text-align: right;\">\n",
       "      <th></th>\n",
       "      <th>Open</th>\n",
       "      <th>High</th>\n",
       "      <th>Low</th>\n",
       "      <th>Close</th>\n",
       "      <th>Volume</th>\n",
       "      <th>Daily Return</th>\n",
       "      <th>7D MA</th>\n",
       "      <th>30D MA</th>\n",
       "      <th>30D RV</th>\n",
       "    </tr>\n",
       "    <tr>\n",
       "      <th>Date</th>\n",
       "      <th></th>\n",
       "      <th></th>\n",
       "      <th></th>\n",
       "      <th></th>\n",
       "      <th></th>\n",
       "      <th></th>\n",
       "      <th></th>\n",
       "      <th></th>\n",
       "      <th></th>\n",
       "    </tr>\n",
       "  </thead>\n",
       "  <tbody>\n",
       "    <tr>\n",
       "      <th>2010-06-28</th>\n",
       "      <td>17.00</td>\n",
       "      <td>17.00</td>\n",
       "      <td>17.00</td>\n",
       "      <td>17.00</td>\n",
       "      <td>0</td>\n",
       "      <td>NaN</td>\n",
       "      <td>NaN</td>\n",
       "      <td>NaN</td>\n",
       "      <td>NaN</td>\n",
       "    </tr>\n",
       "    <tr>\n",
       "      <th>2010-06-29</th>\n",
       "      <td>19.00</td>\n",
       "      <td>25.00</td>\n",
       "      <td>17.54</td>\n",
       "      <td>23.89</td>\n",
       "      <td>18783276</td>\n",
       "      <td>40.529412</td>\n",
       "      <td>NaN</td>\n",
       "      <td>NaN</td>\n",
       "      <td>NaN</td>\n",
       "    </tr>\n",
       "    <tr>\n",
       "      <th>2010-06-30</th>\n",
       "      <td>25.79</td>\n",
       "      <td>30.42</td>\n",
       "      <td>23.30</td>\n",
       "      <td>23.83</td>\n",
       "      <td>17194394</td>\n",
       "      <td>-0.251151</td>\n",
       "      <td>NaN</td>\n",
       "      <td>NaN</td>\n",
       "      <td>NaN</td>\n",
       "    </tr>\n",
       "    <tr>\n",
       "      <th>2010-07-01</th>\n",
       "      <td>25.00</td>\n",
       "      <td>25.92</td>\n",
       "      <td>20.27</td>\n",
       "      <td>21.96</td>\n",
       "      <td>8229863</td>\n",
       "      <td>-7.847251</td>\n",
       "      <td>NaN</td>\n",
       "      <td>NaN</td>\n",
       "      <td>NaN</td>\n",
       "    </tr>\n",
       "    <tr>\n",
       "      <th>2010-07-02</th>\n",
       "      <td>23.00</td>\n",
       "      <td>23.10</td>\n",
       "      <td>18.71</td>\n",
       "      <td>19.20</td>\n",
       "      <td>5141807</td>\n",
       "      <td>-12.568306</td>\n",
       "      <td>NaN</td>\n",
       "      <td>NaN</td>\n",
       "      <td>NaN</td>\n",
       "    </tr>\n",
       "    <tr>\n",
       "      <th>...</th>\n",
       "      <td>...</td>\n",
       "      <td>...</td>\n",
       "      <td>...</td>\n",
       "      <td>...</td>\n",
       "      <td>...</td>\n",
       "      <td>...</td>\n",
       "      <td>...</td>\n",
       "      <td>...</td>\n",
       "      <td>...</td>\n",
       "    </tr>\n",
       "    <tr>\n",
       "      <th>2017-11-06</th>\n",
       "      <td>307.00</td>\n",
       "      <td>307.50</td>\n",
       "      <td>299.01</td>\n",
       "      <td>302.78</td>\n",
       "      <td>6482486</td>\n",
       "      <td>-1.081381</td>\n",
       "      <td>314.527143</td>\n",
       "      <td>339.294800</td>\n",
       "      <td>2.216589</td>\n",
       "    </tr>\n",
       "    <tr>\n",
       "      <th>2017-11-07</th>\n",
       "      <td>301.02</td>\n",
       "      <td>306.50</td>\n",
       "      <td>300.03</td>\n",
       "      <td>306.05</td>\n",
       "      <td>5286320</td>\n",
       "      <td>1.079992</td>\n",
       "      <td>312.410000</td>\n",
       "      <td>337.988133</td>\n",
       "      <td>2.231713</td>\n",
       "    </tr>\n",
       "    <tr>\n",
       "      <th>2017-11-08</th>\n",
       "      <td>305.50</td>\n",
       "      <td>306.89</td>\n",
       "      <td>301.30</td>\n",
       "      <td>304.31</td>\n",
       "      <td>4725510</td>\n",
       "      <td>-0.568535</td>\n",
       "      <td>310.157143</td>\n",
       "      <td>336.766133</td>\n",
       "      <td>2.226119</td>\n",
       "    </tr>\n",
       "    <tr>\n",
       "      <th>2017-11-09</th>\n",
       "      <td>302.50</td>\n",
       "      <td>304.46</td>\n",
       "      <td>296.30</td>\n",
       "      <td>302.99</td>\n",
       "      <td>5440335</td>\n",
       "      <td>-0.433768</td>\n",
       "      <td>306.080000</td>\n",
       "      <td>335.545800</td>\n",
       "      <td>2.226150</td>\n",
       "    </tr>\n",
       "    <tr>\n",
       "      <th>2017-11-10</th>\n",
       "      <td>302.50</td>\n",
       "      <td>308.36</td>\n",
       "      <td>301.85</td>\n",
       "      <td>302.99</td>\n",
       "      <td>4621912</td>\n",
       "      <td>0.000000</td>\n",
       "      <td>303.495714</td>\n",
       "      <td>334.278133</td>\n",
       "      <td>2.222447</td>\n",
       "    </tr>\n",
       "  </tbody>\n",
       "</table>\n",
       "<p>1858 rows × 9 columns</p>\n",
       "</div>"
      ],
      "text/plain": [
       "              Open    High     Low   Close    Volume  Daily Return  \\\n",
       "Date                                                                 \n",
       "2010-06-28   17.00   17.00   17.00   17.00         0           NaN   \n",
       "2010-06-29   19.00   25.00   17.54   23.89  18783276     40.529412   \n",
       "2010-06-30   25.79   30.42   23.30   23.83  17194394     -0.251151   \n",
       "2010-07-01   25.00   25.92   20.27   21.96   8229863     -7.847251   \n",
       "2010-07-02   23.00   23.10   18.71   19.20   5141807    -12.568306   \n",
       "...            ...     ...     ...     ...       ...           ...   \n",
       "2017-11-06  307.00  307.50  299.01  302.78   6482486     -1.081381   \n",
       "2017-11-07  301.02  306.50  300.03  306.05   5286320      1.079992   \n",
       "2017-11-08  305.50  306.89  301.30  304.31   4725510     -0.568535   \n",
       "2017-11-09  302.50  304.46  296.30  302.99   5440335     -0.433768   \n",
       "2017-11-10  302.50  308.36  301.85  302.99   4621912      0.000000   \n",
       "\n",
       "                 7D MA      30D MA    30D RV  \n",
       "Date                                          \n",
       "2010-06-28         NaN         NaN       NaN  \n",
       "2010-06-29         NaN         NaN       NaN  \n",
       "2010-06-30         NaN         NaN       NaN  \n",
       "2010-07-01         NaN         NaN       NaN  \n",
       "2010-07-02         NaN         NaN       NaN  \n",
       "...                ...         ...       ...  \n",
       "2017-11-06  314.527143  339.294800  2.216589  \n",
       "2017-11-07  312.410000  337.988133  2.231713  \n",
       "2017-11-08  310.157143  336.766133  2.226119  \n",
       "2017-11-09  306.080000  335.545800  2.226150  \n",
       "2017-11-10  303.495714  334.278133  2.222447  \n",
       "\n",
       "[1858 rows x 9 columns]"
      ]
     },
     "execution_count": 42,
     "metadata": {},
     "output_type": "execute_result"
    }
   ],
   "source": [
    "df['Daily Return'] = df.groupby(level='Ticker')['Close'].pct_change()*100\n",
    "df['7D MA'] = df.groupby(level='Ticker')['Close'].transform(lambda x: x.rolling(window=7).mean())\n",
    "df['30D MA'] = df.groupby(level='Ticker')['Close'].transform(lambda x: x.rolling(window=30).mean())\n",
    "df['30D RV'] = df.groupby(level='Ticker')['Daily Return'].transform(lambda x: x.rolling(window=30).std())\n",
    "df.loc['TSLA']"
   ]
  },
  {
   "cell_type": "markdown",
   "id": "f9e6f45c",
   "metadata": {},
   "source": [
    "### Finding the stock with maximum daily returns"
   ]
  },
  {
   "cell_type": "code",
   "execution_count": 43,
   "id": "7fcb1b77",
   "metadata": {
    "execution": {
     "iopub.execute_input": "2025-05-31T07:02:51.350899Z",
     "iopub.status.busy": "2025-05-31T07:02:51.350575Z",
     "iopub.status.idle": "2025-05-31T07:02:51.361842Z",
     "shell.execute_reply": "2025-05-31T07:02:51.360902Z"
    },
    "papermill": {
     "duration": 0.017405,
     "end_time": "2025-05-31T07:02:51.363322",
     "exception": false,
     "start_time": "2025-05-31T07:02:51.345917",
     "status": "completed"
    },
    "tags": []
   },
   "outputs": [
    {
     "name": "stdout",
     "output_type": "stream",
     "text": [
      "Ticker\n",
      "AAPL     0.099931\n",
      "AMZN     0.140714\n",
      "GOOGL    0.091188\n",
      "MSFT     0.085982\n",
      "TSLA     0.210083\n",
      "Name: Daily Return, dtype: float64\n"
     ]
    },
    {
     "data": {
      "text/plain": [
       "('TSLA', np.float64(0.21008256936590616))"
      ]
     },
     "execution_count": 43,
     "metadata": {},
     "output_type": "execute_result"
    }
   ],
   "source": [
    "avg_returns = df.groupby(level='Ticker')['Daily Return'].mean()\n",
    "highest_stock = avg_returns.idxmax()\n",
    "highest_value = avg_returns.max()\n",
    "\n",
    "print(avg_returns)\n",
    "highest_stock, highest_value"
   ]
  },
  {
   "cell_type": "markdown",
   "id": "14846b69",
   "metadata": {},
   "source": [
    "### Finding the months with max volatility for each stock"
   ]
  },
  {
   "cell_type": "code",
   "execution_count": 44,
   "id": "3e8f3e41",
   "metadata": {
    "execution": {
     "iopub.execute_input": "2025-05-31T07:02:51.372331Z",
     "iopub.status.busy": "2025-05-31T07:02:51.371953Z",
     "iopub.status.idle": "2025-05-31T07:02:51.402445Z",
     "shell.execute_reply": "2025-05-31T07:02:51.401268Z"
    },
    "papermill": {
     "duration": 0.036898,
     "end_time": "2025-05-31T07:02:51.404153",
     "exception": false,
     "start_time": "2025-05-31T07:02:51.367255",
     "status": "completed"
    },
    "tags": []
   },
   "outputs": [
    {
     "name": "stdout",
     "output_type": "stream",
     "text": [
      "Stock: AAPL | Start Date: 2013-01-14 | End Date: 2013-02-12 | Max 30D Volatility: 3.1692108621594346\n",
      "Stock: AMZN | Start Date: 2011-11-01 | End Date: 2011-11-30 | Max 30D Volatility: 3.6481448939357337\n",
      "Stock: GOOGL | Start Date: 2015-07-28 | End Date: 2015-08-26 | Max 30D Volatility: 3.806679978619726\n",
      "Stock: MSFT | Start Date: 2013-07-31 | End Date: 2013-08-29 | Max 30D Volatility: 2.806424904937462\n",
      "Stock: TSLA | Start Date: 2010-07-12 | End Date: 2010-08-10 | Max 30D Volatility: 9.445034250061946\n"
     ]
    }
   ],
   "source": [
    "max_vol = df.groupby(level='Ticker')['30D RV'].idxmax() \n",
    "max_vol_values = df.loc[max_vol, '30D RV']\n",
    "\n",
    "for (ticker, date), volatility in max_vol_values.items():\n",
    "    print(f\"Stock: {ticker} | Start Date: {(date - pd.Timedelta(days=29)).date()} | End Date: {date.date()} | Max 30D Volatility: {volatility}\")"
   ]
  }
 ],
 "metadata": {
  "kaggle": {
   "accelerator": "none",
   "dataSources": [
    {
     "datasetId": 4538,
     "sourceId": 7213,
     "sourceType": "datasetVersion"
    }
   ],
   "dockerImageVersionId": 31040,
   "isGpuEnabled": false,
   "isInternetEnabled": false,
   "language": "python",
   "sourceType": "notebook"
  },
  "kernelspec": {
   "display_name": "Python 3",
   "language": "python",
   "name": "python3"
  },
  "language_info": {
   "codemirror_mode": {
    "name": "ipython",
    "version": 3
   },
   "file_extension": ".py",
   "mimetype": "text/x-python",
   "name": "python",
   "nbconvert_exporter": "python",
   "pygments_lexer": "ipython3",
   "version": "3.13.1"
  },
  "papermill": {
   "default_parameters": {},
   "duration": 8.228624,
   "end_time": "2025-05-31T07:02:51.928211",
   "environment_variables": {},
   "exception": null,
   "input_path": "__notebook__.ipynb",
   "output_path": "__notebook__.ipynb",
   "parameters": {},
   "start_time": "2025-05-31T07:02:43.699587",
   "version": "2.6.0"
  }
 },
 "nbformat": 4,
 "nbformat_minor": 5
}
